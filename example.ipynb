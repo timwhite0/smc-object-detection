{
 "cells": [
  {
   "cell_type": "code",
   "execution_count": 1,
   "metadata": {},
   "outputs": [],
   "source": [
    "from smc import SMC\n",
    "from prior import CatalogPrior\n",
    "from images import ImageAttributes\n",
    "\n",
    "import torch\n",
    "# torch.cuda.is_available()\n",
    "device = torch.device(\"cuda:6\" if torch.cuda.is_available() else \"cpu\")\n",
    "torch.cuda.set_device(device)\n",
    "torch.set_default_device(device)"
   ]
  },
  {
   "cell_type": "code",
   "execution_count": 2,
   "metadata": {},
   "outputs": [],
   "source": [
    "num_images = 1\n",
    "img_dim = 20 # Needs to be square for now\n",
    "img_width = img_dim\n",
    "img_height = img_dim\n",
    "max_objects = 10\n",
    "psf_stdev = 3.25\n",
    "background_intensity = 19200\n",
    "\n",
    "image_attributes = ImageAttributes(img_width = img_width,\n",
    "                                   img_height = img_height,\n",
    "                                   max_objects = max_objects,\n",
    "                                   psf_stdev = psf_stdev,\n",
    "                                   background_intensity = background_intensity)\n",
    "\n",
    "true_counts, true_fluxes, true_locs, true_total_intensities, images = image_attributes.generate(num_images)"
   ]
  },
  {
   "cell_type": "code",
   "execution_count": 3,
   "metadata": {},
   "outputs": [
    {
     "name": "stdout",
     "output_type": "stream",
     "text": [
      "image 1 \n",
      "count\n",
      " 10 \n",
      "total flux\n",
      " 633558.375 \n",
      "loc\n",
      " [[ 0.          0.        ]\n",
      " [11.851297    6.0215783 ]\n",
      " [ 4.128373    0.84605014]\n",
      " [14.141203    9.242095  ]\n",
      " [ 9.922048   14.20344   ]\n",
      " [19.637428   15.056472  ]\n",
      " [ 4.618916    0.7214654 ]\n",
      " [ 7.708377   10.6054125 ]\n",
      " [ 9.71442    18.673084  ]\n",
      " [ 2.5807805   2.7556155 ]\n",
      " [ 0.66077244 16.273369  ]] \n",
      "\n",
      "\n"
     ]
    }
   ],
   "source": [
    "for i in range(num_images):\n",
    "    print(f\"image {i+1}\",\n",
    "          \"\\ncount\\n\", true_counts[i].round().item(),\n",
    "          \"\\ntotal flux\\n\", true_fluxes[i].sum().item(),\n",
    "          \"\\nloc\\n\", true_locs[i].cpu().numpy(), \"\\n\\n\")"
   ]
  },
  {
   "cell_type": "code",
   "execution_count": 4,
   "metadata": {},
   "outputs": [
    {
     "name": "stdout",
     "output_type": "stream",
     "text": [
      "True count: 10\n",
      "True total flux: 633558.375\n",
      "\n",
      "Starting the sampler...\n",
      "iteration 5, temperature = 0.0007226963061839342, posterior mean count = 9.376596450805664\n",
      "iteration 10, temperature = 0.0034771631471812725, posterior mean count = 9.831664085388184\n",
      "iteration 15, temperature = 0.008689036592841148, posterior mean count = 9.774433135986328\n",
      "iteration 20, temperature = 0.01566952094435692, posterior mean count = 9.637947082519531\n",
      "iteration 25, temperature = 0.027140378952026367, posterior mean count = 9.560420989990234\n",
      "iteration 30, temperature = 0.050097741186618805, posterior mean count = 9.461508750915527\n",
      "iteration 35, temperature = 0.09930086135864258, posterior mean count = 9.428245544433594\n",
      "iteration 40, temperature = 0.2192057967185974, posterior mean count = 9.495031356811523\n",
      "iteration 45, temperature = 0.4670637845993042, posterior mean count = 9.853616714477539\n",
      "iteration 50, temperature = 0.8559674024581909, posterior mean count = 9.955570220947266\n",
      "iteration 55, temperature = 0.9954990148544312, posterior mean count = 9.970794677734375\n",
      "iteration 60, temperature = 0.9998593330383301, posterior mean count = 9.971107482910156\n",
      "Done!\n",
      "\n",
      "summary:\n",
      "number of SMC iterations: 60\n",
      "\n",
      "posterior mean count: 9.971112251281738\n",
      "argmax count: 10.0\n",
      "argmax total flux: 633451.5\n"
     ]
    },
    {
     "data": {
      "image/png": "[encoded data removed]",
      "text/plain": [
       "<Figure size 432x288 with 2 Axes>"
      ]
     },
     "metadata": {
      "needs_background": "light"
     },
     "output_type": "display_data"
    }
   ],
   "source": [
    "max_objects_smc = max_objects + 2\n",
    "prior = CatalogPrior(max_objects_smc, img_width, img_height, background_intensity/3.)\n",
    "smc = SMC(images[0], image_attributes, prior, num_blocks = max_objects_smc+1, catalogs_per_block = 500, max_smc_iters = 1000)\n",
    "\n",
    "print(f\"True count: {true_counts[0]}\")\n",
    "print(f\"True total flux: {true_fluxes[0].sum()}\\n\")\n",
    "\n",
    "smc.run(print_progress = True)\n",
    "smc.summarize()"
   ]
  }
 ],
 "metadata": {
  "kernelspec": {
   "display_name": "Python 3",
   "language": "python",
   "name": "python3"
  },
  "language_info": {
   "codemirror_mode": {
    "name": "ipython",
    "version": 3
   },
   "file_extension": ".py",
   "mimetype": "text/x-python",
   "name": "python",
   "nbconvert_exporter": "python",
   "pygments_lexer": "ipython3",
   "version": "3.10.12"
  }
 },
 "nbformat": 4,
 "nbformat_minor": 2
}
