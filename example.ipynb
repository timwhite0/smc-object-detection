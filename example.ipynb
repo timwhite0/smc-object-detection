{
 "cells": [
  {
   "cell_type": "code",
   "execution_count": 1,
   "metadata": {},
   "outputs": [],
   "source": [
    "from smc import SMCsampler\n",
    "from prior import CatalogPrior\n",
    "from images import ImageAttributes\n",
    "\n",
    "import torch\n",
    "# torch.cuda.is_available()\n",
    "device = torch.device(\"cuda:6\" if torch.cuda.is_available() else \"cpu\")\n",
    "torch.cuda.set_device(device)\n",
    "torch.set_default_device(device)"
   ]
  },
  {
   "cell_type": "code",
   "execution_count": 2,
   "metadata": {},
   "outputs": [],
   "source": [
    "num_images = 1\n",
    "img_dim = 15 # Needs to be square for now\n",
    "img_width = img_dim\n",
    "img_height = img_dim\n",
    "max_objects = 10\n",
    "psf_stdev = 3.25\n",
    "background_intensity = 19200\n",
    "\n",
    "image_attributes = ImageAttributes(img_width = img_width,\n",
    "                                   img_height = img_height,\n",
    "                                   max_objects = max_objects,\n",
    "                                   psf_stdev = psf_stdev,\n",
    "                                   background_intensity = background_intensity)\n",
    "\n",
    "true_counts, true_fluxes, true_locs, true_total_intensities, images = image_attributes.generate(num_images)"
   ]
  },
  {
   "cell_type": "code",
   "execution_count": 3,
   "metadata": {},
   "outputs": [
    {
     "name": "stdout",
     "output_type": "stream",
     "text": [
      "image 1 \n",
      "count\n",
      " 7 \n",
      "total flux\n",
      " 419185.3125 \n",
      "loc\n",
      " [[ 0.         0.       ]\n",
      " [10.329173   2.9791625]\n",
      " [ 3.0713937  7.956241 ]\n",
      " [ 6.1269455  4.6874714]\n",
      " [ 1.0536923  5.4416227]\n",
      " [11.218217  12.036211 ]\n",
      " [12.668237  13.753546 ]\n",
      " [ 9.506056  11.482825 ]\n",
      " [ 0.         0.       ]\n",
      " [ 0.         0.       ]\n",
      " [ 0.         0.       ]] \n",
      "\n",
      "\n"
     ]
    }
   ],
   "source": [
    "for i in range(num_images):\n",
    "    print(f\"image {i+1}\",\n",
    "          \"\\ncount\\n\", true_counts[i].round().item(),\n",
    "          \"\\ntotal flux\\n\", true_fluxes[i].sum().item(),\n",
    "          \"\\nloc\\n\", true_locs[i].cpu().numpy(), \"\\n\\n\")"
   ]
  },
  {
   "cell_type": "code",
   "execution_count": 4,
   "metadata": {},
   "outputs": [
    {
     "name": "stdout",
     "output_type": "stream",
     "text": [
      "True count: 7\n",
      "True total flux: 419185.3125\n",
      "\n",
      "Starting the sampler...\n",
      "iteration 5, temperature = 0.0013073142617940903, posterior mean count = 6.399041175842285\n",
      "iteration 10, temperature = 0.004854409024119377, posterior mean count = 6.558840751647949\n",
      "iteration 15, temperature = 0.01125778816640377, posterior mean count = 6.611201286315918\n",
      "iteration 20, temperature = 0.020348597317934036, posterior mean count = 6.607022285461426\n",
      "iteration 25, temperature = 0.033356547355651855, posterior mean count = 6.614947319030762\n",
      "iteration 30, temperature = 0.05421587452292442, posterior mean count = 6.640447616577148\n",
      "iteration 35, temperature = 0.08932328224182129, posterior mean count = 6.649704933166504\n",
      "iteration 40, temperature = 0.1599719077348709, posterior mean count = 6.663026809692383\n",
      "iteration 45, temperature = 0.3073699474334717, posterior mean count = 6.6891188621521\n",
      "iteration 50, temperature = 0.6001956462860107, posterior mean count = 6.7646284103393555\n",
      "iteration 55, temperature = 0.9675902128219604, posterior mean count = 6.855405807495117\n",
      "iteration 60, temperature = 0.9989871978759766, posterior mean count = 6.860882759094238\n",
      "Done!\n",
      "\n",
      "summary\n",
      "number of SMC iterations: 63\n",
      "\n",
      "log normalizing constant: -2052.638671875\n",
      "\n",
      "posterior mean count: 6.860990047454834\n",
      "posterior mean total flux: 417234.28125\n",
      "argmax count: 7.0\n",
      "argmax total flux: 416752.3125\n"
     ]
    },
    {
     "data": {
      "image/png": "[encoded data removed]",
      "text/plain": [
       "<Figure size 432x288 with 2 Axes>"
      ]
     },
     "metadata": {
      "needs_background": "light"
     },
     "output_type": "display_data"
    }
   ],
   "source": [
    "max_objects_smc = max_objects + 2\n",
    "prior = CatalogPrior(max_objects_smc, img_width, img_height, background_intensity/3.)\n",
    "smc = SMCsampler(images[0], image_attributes, prior, num_blocks = max_objects_smc+1, catalogs_per_block = 500, max_smc_iters = 1000)\n",
    "\n",
    "print(f\"True count: {true_counts[0]}\")\n",
    "print(f\"True total flux: {true_fluxes[0].sum()}\\n\")\n",
    "\n",
    "smc.run(print_progress = True)\n",
    "smc.summarize()"
   ]
  }
 ],
 "metadata": {
  "kernelspec": {
   "display_name": "Python 3",
   "language": "python",
   "name": "python3"
  },
  "language_info": {
   "codemirror_mode": {
    "name": "ipython",
    "version": 3
   },
   "file_extension": ".py",
   "mimetype": "text/x-python",
   "name": "python",
   "nbconvert_exporter": "python",
   "pygments_lexer": "ipython3",
   "version": "3.10.12"
  }
 },
 "nbformat": 4,
 "nbformat_minor": 2
}
