{
 "cells": [
  {
   "cell_type": "code",
   "execution_count": 1,
   "metadata": {},
   "outputs": [],
   "source": [
    "from smc import SMCsampler\n",
    "from prior import CatalogPrior\n",
    "from images import ImageAttributes\n",
    "\n",
    "import torch\n",
    "# torch.cuda.is_available()\n",
    "device = torch.device(\"cuda:6\" if torch.cuda.is_available() else \"cpu\")\n",
    "torch.cuda.set_device(device)\n",
    "torch.set_default_device(device)"
   ]
  },
  {
   "cell_type": "code",
   "execution_count": 2,
   "metadata": {},
   "outputs": [],
   "source": [
    "num_images = 1\n",
    "img_dim = 15 # Needs to be square for now\n",
    "img_width = img_dim\n",
    "img_height = img_dim\n",
    "max_objects = 10\n",
    "psf_stdev = 3.25\n",
    "background_intensity = 19200\n",
    "\n",
    "image_attributes = ImageAttributes(img_width = img_width,\n",
    "                                   img_height = img_height,\n",
    "                                   max_objects = max_objects,\n",
    "                                   psf_stdev = psf_stdev,\n",
    "                                   background_intensity = background_intensity)\n",
    "\n",
    "true_counts, true_fluxes, true_locs, true_total_intensities, images = image_attributes.generate(num_images)"
   ]
  },
  {
   "cell_type": "code",
   "execution_count": 3,
   "metadata": {},
   "outputs": [
    {
     "name": "stdout",
     "output_type": "stream",
     "text": [
      "image 1 \n",
      "count\n",
      " 5 \n",
      "total flux\n",
      " 320809.5625 \n",
      "loc\n",
      " [[ 0.          0.        ]\n",
      " [11.143158   11.049217  ]\n",
      " [ 7.1996927   3.2676425 ]\n",
      " [ 8.76933     5.450042  ]\n",
      " [10.973533    9.068325  ]\n",
      " [ 0.41047725  6.2170033 ]\n",
      " [ 0.          0.        ]\n",
      " [ 0.          0.        ]\n",
      " [ 0.          0.        ]\n",
      " [ 0.          0.        ]\n",
      " [ 0.          0.        ]] \n",
      "\n",
      "\n"
     ]
    }
   ],
   "source": [
    "for i in range(num_images):\n",
    "    print(f\"image {i+1}\",\n",
    "          \"\\ncount\\n\", true_counts[i].round().item(),\n",
    "          \"\\ntotal flux\\n\", true_fluxes[i].sum().item(),\n",
    "          \"\\nloc\\n\", true_locs[i].cpu().numpy(), \"\\n\\n\")"
   ]
  },
  {
   "cell_type": "code",
   "execution_count": 4,
   "metadata": {},
   "outputs": [
    {
     "name": "stdout",
     "output_type": "stream",
     "text": [
      "True count: 5\n",
      "True total flux: 320809.5625\n",
      "\n",
      "Starting the sampler...\n",
      "iteration 5, temperature = 0.0007103006937541068, posterior mean count = 4.870602130889893\n",
      "iteration 10, temperature = 0.002497332636266947, posterior mean count = 4.968280792236328\n",
      "iteration 15, temperature = 0.006961924955248833, posterior mean count = 5.006391525268555\n",
      "iteration 20, temperature = 0.016830330714583397, posterior mean count = 4.996456623077393\n",
      "iteration 25, temperature = 0.03506547212600708, posterior mean count = 4.966036796569824\n",
      "iteration 30, temperature = 0.0696939155459404, posterior mean count = 4.946460247039795\n",
      "iteration 35, temperature = 0.15807172656059265, posterior mean count = 4.933815002441406\n",
      "iteration 40, temperature = 0.4545947313308716, posterior mean count = 4.920539855957031\n",
      "iteration 45, temperature = 0.9668192863464355, posterior mean count = 4.914917945861816\n",
      "iteration 50, temperature = 0.9989631175994873, posterior mean count = 4.914182662963867\n",
      "Done!\n",
      "\n",
      "summary:\n",
      "number of SMC iterations: 53\n",
      "\n",
      "posterior mean count: 4.91418981552124\n",
      "argmax count: 5.0\n",
      "argmax total flux: 321036.53125\n"
     ]
    },
    {
     "data": {
      "image/png": "[encoded data removed]",
      "text/plain": [
       "<Figure size 432x288 with 2 Axes>"
      ]
     },
     "metadata": {
      "needs_background": "light"
     },
     "output_type": "display_data"
    }
   ],
   "source": [
    "max_objects_smc = max_objects + 2\n",
    "prior = CatalogPrior(max_objects_smc, img_width, img_height, background_intensity/3.)\n",
    "smc = SMCsampler(images[0], image_attributes, prior, num_blocks = max_objects_smc+1, catalogs_per_block = 500, max_smc_iters = 1000)\n",
    "\n",
    "print(f\"True count: {true_counts[0]}\")\n",
    "print(f\"True total flux: {true_fluxes[0].sum()}\\n\")\n",
    "\n",
    "smc.run(print_progress = True)\n",
    "smc.summarize()"
   ]
  }
 ],
 "metadata": {
  "kernelspec": {
   "display_name": "Python 3",
   "language": "python",
   "name": "python3"
  },
  "language_info": {
   "codemirror_mode": {
    "name": "ipython",
    "version": 3
   },
   "file_extension": ".py",
   "mimetype": "text/x-python",
   "name": "python",
   "nbconvert_exporter": "python",
   "pygments_lexer": "ipython3",
   "version": "3.10.12"
  }
 },
 "nbformat": 4,
 "nbformat_minor": 2
}
