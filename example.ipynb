{
 "cells": [
  {
   "cell_type": "code",
   "execution_count": 1,
   "metadata": {},
   "outputs": [],
   "source": [
    "from smc import SMCsampler\n",
    "from prior import CatalogPrior\n",
    "from images import ImageAttributes\n",
    "\n",
    "import torch\n",
    "# torch.cuda.is_available()\n",
    "device = torch.device(\"cuda:6\" if torch.cuda.is_available() else \"cpu\")\n",
    "torch.cuda.set_device(device)\n",
    "torch.set_default_device(device)"
   ]
  },
  {
   "cell_type": "code",
   "execution_count": 2,
   "metadata": {},
   "outputs": [],
   "source": [
    "num_images = 1\n",
    "img_dim = 15 # Needs to be square for now\n",
    "img_width = img_dim\n",
    "img_height = img_dim\n",
    "max_objects = 10\n",
    "psf_stdev = 3.25\n",
    "background_intensity = 19200\n",
    "\n",
    "image_attributes = ImageAttributes(img_width = img_width,\n",
    "                                   img_height = img_height,\n",
    "                                   max_objects = max_objects,\n",
    "                                   psf_stdev = psf_stdev,\n",
    "                                   background_intensity = background_intensity)\n",
    "\n",
    "true_counts, true_fluxes, true_locs, true_total_intensities, images = image_attributes.generate(num_images)"
   ]
  },
  {
   "cell_type": "code",
   "execution_count": 3,
   "metadata": {},
   "outputs": [
    {
     "name": "stdout",
     "output_type": "stream",
     "text": [
      "image 1 \n",
      "count\n",
      " 8 \n",
      "total flux\n",
      " 526343.5625 \n",
      "loc\n",
      " [[ 0.         0.       ]\n",
      " [13.350681   9.544291 ]\n",
      " [13.579707   2.3911123]\n",
      " [ 6.2836103 13.172787 ]\n",
      " [ 6.5998116  9.1436825]\n",
      " [12.502326   6.666784 ]\n",
      " [14.566243  10.684179 ]\n",
      " [11.799548   0.3366593]\n",
      " [ 9.70395    3.1224468]\n",
      " [ 0.         0.       ]\n",
      " [ 0.         0.       ]] \n",
      "\n",
      "\n"
     ]
    }
   ],
   "source": [
    "for i in range(num_images):\n",
    "    print(f\"image {i+1}\",\n",
    "          \"\\ncount\\n\", true_counts[i].round().item(),\n",
    "          \"\\ntotal flux\\n\", true_fluxes[i].sum().item(),\n",
    "          \"\\nloc\\n\", true_locs[i].cpu().numpy(), \"\\n\\n\")"
   ]
  },
  {
   "cell_type": "code",
   "execution_count": 4,
   "metadata": {},
   "outputs": [
    {
     "name": "stdout",
     "output_type": "stream",
     "text": [
      "True count: 8\n",
      "True total flux: 526343.5625\n",
      "\n",
      "Starting the sampler...\n",
      "iteration 5, temperature = 0.0010033627040684223, posterior mean count = 8.436187744140625\n",
      "iteration 10, temperature = 0.0034737158566713333, posterior mean count = 8.646663665771484\n",
      "iteration 15, temperature = 0.007095498498529196, posterior mean count = 8.615861892700195\n",
      "iteration 20, temperature = 0.011258214712142944, posterior mean count = 8.600799560546875\n",
      "iteration 25, temperature = 0.01679830253124237, posterior mean count = 8.588664054870605\n",
      "iteration 30, temperature = 0.02423802576959133, posterior mean count = 8.570111274719238\n",
      "iteration 35, temperature = 0.03343759849667549, posterior mean count = 8.553312301635742\n",
      "iteration 40, temperature = 0.04799289256334305, posterior mean count = 8.514801979064941\n",
      "iteration 45, temperature = 0.06868131458759308, posterior mean count = 8.500336647033691\n",
      "iteration 50, temperature = 0.10166700184345245, posterior mean count = 8.488844871520996\n",
      "iteration 55, temperature = 0.15176254510879517, posterior mean count = 8.458782196044922\n",
      "iteration 60, temperature = 0.23644623160362244, posterior mean count = 8.42988395690918\n",
      "iteration 65, temperature = 0.36117273569107056, posterior mean count = 8.396329879760742\n",
      "iteration 70, temperature = 0.5158680081367493, posterior mean count = 8.355119705200195\n",
      "iteration 75, temperature = 0.7003939747810364, posterior mean count = 8.347097396850586\n",
      "iteration 80, temperature = 0.9234131574630737, posterior mean count = 8.3309326171875\n",
      "iteration 85, temperature = 0.997606635093689, posterior mean count = 8.32779598236084\n",
      "Done!\n",
      "\n",
      "summary:\n",
      "number of SMC iterations: 89\n",
      "\n",
      "posterior mean count: 8.327919960021973\n",
      "argmax count: 8.0\n",
      "argmax total flux: 532062.1875\n"
     ]
    },
    {
     "data": {
      "image/png": "[encoded data removed]",
      "text/plain": [
       "<Figure size 432x288 with 2 Axes>"
      ]
     },
     "metadata": {
      "needs_background": "light"
     },
     "output_type": "display_data"
    }
   ],
   "source": [
    "max_objects_smc = max_objects + 2\n",
    "prior = CatalogPrior(max_objects_smc, img_width, img_height, background_intensity/3.)\n",
    "smc = SMCsampler(images[0], image_attributes, prior, num_blocks = max_objects_smc+1, catalogs_per_block = 500, max_smc_iters = 1000)\n",
    "\n",
    "print(f\"True count: {true_counts[0]}\")\n",
    "print(f\"True total flux: {true_fluxes[0].sum()}\\n\")\n",
    "\n",
    "smc.run(print_progress = True)\n",
    "smc.summarize()"
   ]
  }
 ],
 "metadata": {
  "kernelspec": {
   "display_name": "Python 3",
   "language": "python",
   "name": "python3"
  },
  "language_info": {
   "codemirror_mode": {
    "name": "ipython",
    "version": 3
   },
   "file_extension": ".py",
   "mimetype": "text/x-python",
   "name": "python",
   "nbconvert_exporter": "python",
   "pygments_lexer": "ipython3",
   "version": "3.10.12"
  }
 },
 "nbformat": 4,
 "nbformat_minor": 2
}
