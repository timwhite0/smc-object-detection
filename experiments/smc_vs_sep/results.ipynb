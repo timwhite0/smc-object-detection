{
 "cells": [
  {
   "cell_type": "code",
   "execution_count": null,
   "metadata": {},
   "outputs": [],
   "source": [
    "import matplotlib.pyplot as plt\n",
    "import seaborn as sns\n",
    "import torch\n",
    "\n",
    "# torch.cuda.is_available()\n",
    "device = torch.device(\"cuda:5\" if torch.cuda.is_available() else \"cpu\")\n",
    "torch.cuda.set_device(device)\n",
    "torch.set_default_device(device)"
   ]
  },
  {
   "cell_type": "markdown",
   "metadata": {},
   "source": [
    "### Load results"
   ]
  },
  {
   "cell_type": "code",
   "execution_count": null,
   "metadata": {},
   "outputs": [],
   "source": [
    "true_counts = torch.load(\"results/true_counts.pt\")\n",
    "true_fluxes = torch.load(\"results/true_fluxes.pt\")\n",
    "true_locs = torch.load(\"results/true_locs.pt\")\n",
    "true_total_intensities = torch.load(\"results/true_total_intensities.pt\")\n",
    "images = torch.load(\"results/images.pt\")\n",
    "num_images = images.shape[0]\n",
    "max_objects = true_fluxes.shape[1]\n",
    "\n",
    "sep_estimated_count = torch.load(\"results/sep_estimated_count.pt\")\n",
    "# sep_estimated_total_flux = torch.load(\"results/sep_estimated_total_flux\")\n",
    "sep_reconstruction = torch.load(\"results/sep_reconstruction.pt\")\n",
    "\n",
    "smc_posterior_mean_count = torch.load(\"results/smc_posterior_mean_count.pt\")\n",
    "# smc_posterior_mean_total_flux = torch.load(\"results/smc_posterior_mean_total_flux\")\n",
    "smc_reconstruction = torch.load(\"results/smc_reconstruction.pt\")\n",
    "smc_runtime = torch.load(\"results/smc_runtime.pt\")\n",
    "smc_num_iters = torch.load(\"results/smc_num_iters.pt\")"
   ]
  },
  {
   "cell_type": "markdown",
   "metadata": {},
   "source": [
    "### SEP results"
   ]
  },
  {
   "cell_type": "code",
   "execution_count": null,
   "metadata": {},
   "outputs": [],
   "source": [
    "sep_prop_correct = ((sep_estimated_count == true_counts).sum()/num_images)\n",
    "sep_mse = ((sep_estimated_count - true_counts)**2).mean()\n",
    "sep_mae = (sep_estimated_count - true_counts).abs().mean()\n",
    "\n",
    "print(f\"proportion correct = {sep_prop_correct}\")\n",
    "print(f\"MSE = {sep_mse}\")\n",
    "print(f\"MAE = {sep_mae}\")"
   ]
  },
  {
   "cell_type": "code",
   "execution_count": null,
   "metadata": {},
   "outputs": [],
   "source": [
    "sep_mean_estimated_count_by_count = torch.zeros(max_objects)\n",
    "sep_bounds_estimated_count_by_count = torch.zeros(max_objects, 2)\n",
    "sep_num_correct_by_count = torch.zeros(max_objects)\n",
    "sep_prop_correct_by_count = torch.zeros(max_objects)\n",
    "sep_mse_by_count = torch.zeros(max_objects)\n",
    "sep_mae_by_count = torch.zeros(max_objects)\n",
    "sep_bounds_mae_by_count = torch.zeros(max_objects, 2)\n",
    "\n",
    "for num in range(max_objects):\n",
    "    print(f\"true number of sources = {num}\")\n",
    "    sep_mean_estimated_count_by_count[num] = sep_estimated_count[true_counts==num].mean()\n",
    "    print(f\"mean estimated number of sources = {sep_mean_estimated_count_by_count[num].item()}\")\n",
    "    sep_bounds_estimated_count_by_count[num] = sep_estimated_count[true_counts==num].quantile(torch.tensor((0.05, 0.95)))\n",
    "    \n",
    "    sep_mse_by_count[num] = ((sep_estimated_count[true_counts==num] - true_counts[true_counts==num])**2).mean()\n",
    "    print(f\"MSE across {num_images} images = \", sep_mse_by_count[num].item())\n",
    "    \n",
    "    sep_mae_by_count[num] = ((sep_estimated_count[true_counts==num] - true_counts[true_counts==num]).abs()).mean()\n",
    "    print(f\"MAE across {num_images} images = \", sep_mae_by_count[num].item())\n",
    "    sep_bounds_mae_by_count[num] = ((sep_estimated_count[true_counts==num] - true_counts[true_counts==num]).abs()).quantile(torch.tensor((0.05, 0.95)))\n",
    "    \n",
    "    sep_num_correct_by_count[num] = (sep_estimated_count[true_counts==num].round() == true_counts[true_counts==num]).sum()\n",
    "    sep_prop_correct_by_count[num] = sep_num_correct_by_count[num]/(true_counts==num).sum()\n",
    "    print(f\"correct number of sources detected in {sep_num_correct_by_count[num]} of the {(true_counts==num).sum()} images (accuracy = {sep_prop_correct_by_count[num]})\\n\\n\\n\")"
   ]
  },
  {
   "cell_type": "markdown",
   "metadata": {},
   "source": [
    "### SMC results"
   ]
  },
  {
   "cell_type": "code",
   "execution_count": null,
   "metadata": {},
   "outputs": [],
   "source": [
    "print(f\"MSE across {num_images} images:\", ((smc_posterior_mean_count - true_counts)**2).mean().item())\n",
    "print(f\"MAE across {num_images} images:\", ((smc_posterior_mean_count - true_counts).abs()).mean().item())\n",
    "print(f\"correct number of sources detected in {(smc_posterior_mean_count.round() == true_counts).sum()} of the {num_images} images (accuracy = {(smc_posterior_mean_count.round() == true_counts).sum()/num_images})\")\n",
    "print(f\"number of iterations: minimum = {smc_num_iters.min().int()}, median = {smc_num_iters.median().int()}, maximum = {smc_num_iters.max().int()}\")\n",
    "print(f\"runtime: minimum = {smc_runtime.min().int()}, median = {smc_runtime.median().int()}, maximum = {smc_runtime.max().int()}\\n\\n\\n\")\n",
    "\n",
    "for i in range(num_images):\n",
    "    print(f\"image {i+1} of {num_images} took {smc_num_iters[i].int()} iterations:   \",\n",
    "        \"true s:\", true_counts[i].int().item(),\n",
    "        \"   estimated s:\", \"{:.3f}\".format(smc_posterior_mean_count[i].round(decimals = 4).item()),\n",
    "        \"   true total flux:\", true_fluxes[i].sum().round().int().item(),\n",
    "        \"   estimated total flux:\", )"
   ]
  },
  {
   "cell_type": "code",
   "execution_count": null,
   "metadata": {},
   "outputs": [],
   "source": [
    "smc_mean_posterior_mean_count_by_count = torch.zeros(max_objects)\n",
    "smc_bounds_posterior_mean_count_by_count = torch.zeros(max_objects, 2)\n",
    "smc_num_correct_by_count = torch.zeros(max_objects)\n",
    "smc_prop_correct_by_count = torch.zeros(max_objects)\n",
    "smc_mse_by_count = torch.zeros(max_objects)\n",
    "smc_mae_by_count = torch.zeros(max_objects)\n",
    "smc_bounds_mae_by_count = torch.zeros(max_objects, 2)\n",
    "\n",
    "for num in range(max_objects):\n",
    "    print(f\"true number of sources = {num}\")\n",
    "    \n",
    "    smc_mean_posterior_mean_count_by_count[num] = smc_posterior_mean_count[true_counts==num].mean()\n",
    "    print(f\"estimated number of sources for images where s = {num}:\", smc_mean_posterior_mean_count_by_count[num].item())\n",
    "    smc_bounds_posterior_mean_count_by_count[num] = smc_posterior_mean_count[true_counts==num].quantile(torch.tensor((0.05, 0.95),device=device))\n",
    "    \n",
    "    smc_mse_by_count[num] = ((smc_posterior_mean_count[true_counts==num] - true_counts[true_counts==num])**2).mean()\n",
    "    print(f\"MSE across {(true_counts==num).sum()} images:\", (smc_mse_by_count[num].item()))\n",
    "    \n",
    "    smc_mae_by_count[num] = ((smc_posterior_mean_count[true_counts==num] - true_counts[true_counts==num]).abs()).mean()\n",
    "    print(f\"MAE across {(true_counts==num).sum()} images:\", (smc_mae_by_count[num].item()))\n",
    "    smc_bounds_mae_by_count[num] = ((smc_posterior_mean_count[true_counts==num] - true_counts[true_counts==num]).abs()).quantile(torch.tensor((0.05, 0.95),device=device))\n",
    "    \n",
    "    smc_num_correct_by_count[num] = (smc_posterior_mean_count[true_counts==num].round() == true_counts[true_counts==num]).sum()\n",
    "    smc_prop_correct_by_count[num] = smc_num_correct_by_count[num]/(true_counts==num).sum()\n",
    "    print(f\"correct number of sources detected in {smc_num_correct_by_count[num].int()} of the {(true_counts==num).sum()} images (accuracy = {smc_prop_correct_by_count[num]})\")\n",
    "    \n",
    "    print(f\"number of iterations: minimum = {smc_num_iters[true_counts==num].min().int()}, median = {smc_num_iters[true_counts==num].median().int()}, maximum = {smc_num_iters[true_counts==num].max().int()}\\n\")"
   ]
  },
  {
   "cell_type": "markdown",
   "metadata": {},
   "source": [
    "### Bootstrap CIs"
   ]
  },
  {
   "cell_type": "code",
   "execution_count": null,
   "metadata": {},
   "outputs": [],
   "source": [
    "torch.manual_seed(0)\n",
    "\n",
    "### SMC\n",
    "num_boot_samples = 10000\n",
    "smc_bounds_prop_correct_by_count = torch.zeros(max_objects, 2)\n",
    "\n",
    "for num in range(max_objects):\n",
    "    boot_orig = torch.stack((smc_posterior_mean_count[true_counts==num].round(), true_counts[true_counts==num]), dim = 1)\n",
    "    boot_prop_correct = torch.zeros(num_boot_samples)\n",
    "    \n",
    "    for j in range(num_boot_samples):\n",
    "        boot_sample = boot_orig[(torch.multinomial(torch.arange(boot_orig.size(0)).double(), num_samples = boot_orig.size(0), replacement = True))]\n",
    "        boot_prop_correct[j] = (boot_sample[:,0] == boot_sample[:,1]).sum()/boot_orig.size(0)\n",
    "    \n",
    "    smc_bounds_prop_correct_by_count[num] = boot_prop_correct.quantile(torch.tensor((0.05, 0.95),device=device))\n",
    "\n",
    "### SEP\n",
    "sep_bounds_prop_correct_by_count = torch.zeros(max_objects, 2)\n",
    "\n",
    "for num in range(max_objects):\n",
    "    boot_orig = torch.stack((sep_estimated_count[true_counts==num].round(), true_counts[true_counts==num]), dim = 1)\n",
    "    boot_prop_correct = torch.zeros(num_boot_samples)\n",
    "    \n",
    "    for j in range(num_boot_samples):\n",
    "        boot_sample = boot_orig[(torch.multinomial(torch.arange(boot_orig.size(0)).double(), num_samples = boot_orig.size(0), replacement = True))]\n",
    "        boot_prop_correct[j] = (boot_sample[:,0] == boot_sample[:,1]).sum()/boot_orig.size(0)\n",
    "    \n",
    "    sep_bounds_prop_correct_by_count[num] = boot_prop_correct.quantile(torch.tensor((0.05, 0.95),device=device))"
   ]
  },
  {
   "cell_type": "markdown",
   "metadata": {},
   "source": [
    "### Truth vs. observed vs. SMC reconstruction vs. SEP reconstruction for a few images"
   ]
  },
  {
   "cell_type": "code",
   "execution_count": null,
   "metadata": {},
   "outputs": [],
   "source": [
    "torch.manual_seed(100)\n",
    "\n",
    "# Plot true intensities vs observed intensities vs SMC reconstruction\n",
    "example_image_indexes = [torch.arange(num_images,device=device)[true_counts==2][torch.randint(low=0, high=(true_counts==2).sum(), size=(1,))].item(),\n",
    "                         torch.arange(num_images,device=device)[true_counts==4][torch.randint(low=0, high=(true_counts==4).sum(), size=(1,))].item(),\n",
    "                         torch.arange(num_images,device=device)[true_counts==6][torch.randint(low=0, high=(true_counts==6).sum(), size=(1,))].item(),\n",
    "                         torch.arange(num_images,device=device)[true_counts==8][torch.randint(low=0, high=(true_counts==8).sum(), size=(1,))].item(),\n",
    "                         torch.arange(num_images,device=device)[true_counts==10][torch.randint(low=0, high=(true_counts==10).sum(), size=(1,))].item()]\n",
    "fig1_counts = true_counts[example_image_indexes]\n",
    "fig1_true = true_total_intensities[example_image_indexes]\n",
    "fig1_observed = images[example_image_indexes]\n",
    "fig1_smc = smc_reconstruction[example_image_indexes]\n",
    "fig1_sep = sep_reconstruction[example_image_indexes]\n",
    "\n",
    "fig1,method = plt.subplots(nrows = 4, ncols = 5, sharex = True, sharey = True)\n",
    "fig1.tight_layout(h_pad = -0.5, w_pad = -0.5)\n",
    "\n",
    "for i in range(5):\n",
    "    _ = method[0,i].imshow(fig1_true[i].cpu())\n",
    "    _ = method[0,i].set_xlabel(f\"s = {fig1_counts[i].int()}\", fontsize = 8)\n",
    "    _ = method[0,i].xaxis.set_label_position(\"top\")\n",
    "    _ = method[0,i].set_xticks([])\n",
    "    _ = method[0,i].set_yticks([])\n",
    "\n",
    "    _ = method[1,i].imshow(fig1_observed[i].cpu())\n",
    "    _ = method[1,i].set_xticks([])\n",
    "    _ = method[1,i].set_yticks([])\n",
    "\n",
    "    _ = method[2,i].imshow(fig1_smc[i].cpu())\n",
    "    _ = method[2,i].set_xticks([])\n",
    "    _ = method[2,i].set_yticks([])\n",
    "\n",
    "    _ = method[3,i].imshow(fig1_sep[i].cpu())\n",
    "    _ = method[3,i].set_xticks([])\n",
    "    _ = method[3,i].set_yticks([])\n",
    "\n",
    "_ = method[0,0].set_ylabel(\"True\", loc = \"center\", fontsize = 8)\n",
    "_ = method[1,0].set_ylabel(\"Observed\", loc = \"center\", fontsize = 8)\n",
    "_ = method[2,0].set_ylabel(\"SMC-Deblender\", loc = \"center\", fontsize = 8)\n",
    "_ = method[3,0].set_ylabel(\"SEP\", loc = \"center\", fontsize = 8)\n",
    "\n",
    "fig1.subplots_adjust(wspace=-0.5)\n",
    "# fig1.savefig('results/fig1.png', dpi=500)"
   ]
  },
  {
   "cell_type": "markdown",
   "metadata": {},
   "source": [
    "### MSE, MAE, and calibration"
   ]
  },
  {
   "cell_type": "code",
   "execution_count": null,
   "metadata": {},
   "outputs": [],
   "source": [
    "dot_size = 75\n",
    "line_width = 2\n",
    "text_size = 16\n",
    "sep_color = \"darkred\"\n",
    "smc_color = \"darkblue\"\n",
    "\n",
    "range_max_objects = torch.arange(max_objects, device=\"cpu\")\n",
    "\n",
    "fig2, (fig2a,fig2b,fig2c) = plt.subplots(nrows = 1, ncols = 3, figsize = (15,4))\n",
    "fig2.tight_layout(w_pad = 5)\n",
    "\n",
    "_ = fig2a.plot(range_max_objects, sep_prop_correct_by_count.cpu(), label = \"SEP\", color = sep_color, linewidth = line_width)\n",
    "_ = fig2a.scatter(range_max_objects, sep_prop_correct_by_count.cpu(), color = sep_color, s = dot_size)\n",
    "_ = fig2a.fill_between(range_max_objects, sep_bounds_prop_correct_by_count[:,0].cpu(), sep_bounds_prop_correct_by_count[:,1].cpu(), color = sep_color, alpha = 0.1)\n",
    "_ = fig2a.plot(range_max_objects, smc_prop_correct_by_count.cpu(), label = \"SMC-Deblender\", color = smc_color, linewidth = line_width)\n",
    "_ = fig2a.scatter(range_max_objects, smc_prop_correct_by_count.cpu(), color = smc_color, s = dot_size)\n",
    "_ = fig2a.fill_between(range_max_objects, smc_bounds_prop_correct_by_count[:,0].cpu(), smc_bounds_prop_correct_by_count[:,1].cpu(), color = smc_color, alpha = 0.1)\n",
    "_ = fig2a.legend(ncol=2, fancybox=True, loc=\"upper center\", bbox_to_anchor=(0.5,1.155), fontsize = text_size)\n",
    "_ = fig2a.tick_params(axis = \"both\", labelsize = text_size)\n",
    "_ = fig2a.set_xlabel(\"True number of sources\", fontsize = text_size)\n",
    "_ = fig2a.set_ylabel(\"Classification accuracy\", fontsize = text_size)\n",
    "\n",
    "_ = fig2b.plot(range_max_objects, sep_mean_estimated_count_by_count.cpu(), color = sep_color, label = \"SEP\", linewidth = line_width)\n",
    "_ = fig2b.scatter(range_max_objects, sep_mean_estimated_count_by_count.cpu(), color = sep_color, s = dot_size)\n",
    "_ = fig2b.fill_between(range_max_objects, sep_bounds_estimated_count_by_count[:,0].cpu(), sep_bounds_estimated_count_by_count[:,1].cpu(), color = sep_color, alpha = 0.1)\n",
    "_ = fig2b.plot(range_max_objects, smc_mean_posterior_mean_count_by_count.cpu(), color = smc_color, label = \"SMC-Deblender\", linewidth = line_width)\n",
    "_ = fig2b.scatter(range_max_objects, smc_mean_posterior_mean_count_by_count.cpu(), color = smc_color, s = dot_size)\n",
    "_ = fig2b.fill_between(range_max_objects, smc_bounds_posterior_mean_count_by_count[:,0].cpu(), smc_bounds_posterior_mean_count_by_count[:,1].cpu(), color = smc_color, alpha = 0.1)\n",
    "_ = fig2b.plot(range_max_objects, range_max_objects, \":\", color=\"black\", linewidth = line_width)\n",
    "_ = fig2b.legend(ncol=2, fancybox=True, loc=\"upper center\", bbox_to_anchor=(0.5,1.155), fontsize = text_size)\n",
    "_ = fig2b.tick_params(axis = \"both\", labelsize = text_size)\n",
    "_ = fig2b.set_xlabel(\"True number of sources\", fontsize = text_size)\n",
    "_ = fig2b.set_ylabel(\"Estimated number of sources\", fontsize = text_size)\n",
    "\n",
    "_ = fig2c.plot(range_max_objects, (sep_mae_by_count + smc_mae_by_count[0]).cpu(), label = \"SEP\", color = sep_color, linewidth = line_width)\n",
    "_ = fig2c.scatter(range_max_objects, sep_mae_by_count.cpu(), color = sep_color, s = dot_size)\n",
    "_ = fig2c.fill_between(range_max_objects, sep_bounds_mae_by_count[:,0].cpu(), sep_bounds_mae_by_count[:,1].cpu(), color = sep_color, alpha = 0.1)\n",
    "_ = fig2c.plot(range_max_objects, (smc_mae_by_count).cpu(), label = \"SMC-Deblender\", color = smc_color, linewidth = line_width)\n",
    "_ = fig2c.scatter(range_max_objects, smc_mae_by_count.cpu(), color = smc_color, s = dot_size)\n",
    "_ = fig2c.fill_between(range_max_objects, smc_bounds_mae_by_count[:,0].cpu(), smc_bounds_mae_by_count[:,1].cpu(), color = smc_color, alpha = 0.1)\n",
    "_ = fig2c.legend(ncol=2, fancybox=True, loc=\"upper center\", bbox_to_anchor=(0.5,1.155), fontsize = text_size)\n",
    "_ = fig2c.tick_params(axis = \"both\", labelsize = text_size)\n",
    "_ = fig2c.set_xlabel(\"True number of sources\", fontsize = text_size)\n",
    "_ = fig2c.set_ylabel(\"Mean absolute error\", fontsize = text_size)\n",
    "\n",
    "# fig2.savefig('fig2.png', bbox_inches = \"tight\", dpi = 500)"
   ]
  }
 ],
 "metadata": {
  "kernelspec": {
   "display_name": "Python 3",
   "language": "python",
   "name": "python3"
  },
  "language_info": {
   "codemirror_mode": {
    "name": "ipython",
    "version": 3
   },
   "file_extension": ".py",
   "mimetype": "text/x-python",
   "name": "python",
   "nbconvert_exporter": "python",
   "pygments_lexer": "ipython3",
   "version": "3.10.12"
  }
 },
 "nbformat": 4,
 "nbformat_minor": 2
}
