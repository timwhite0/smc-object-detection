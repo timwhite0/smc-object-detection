{
 "cells": [
  {
   "cell_type": "code",
   "execution_count": null,
   "metadata": {},
   "outputs": [],
   "source": [
    "import matplotlib.pyplot as plt\n",
    "import seaborn as sns\n",
    "import torch\n",
    "\n",
    "# torch.cuda.is_available()\n",
    "device = torch.device(\"cuda:5\" if torch.cuda.is_available() else \"cpu\")\n",
    "torch.cuda.set_device(device)\n",
    "torch.set_default_device(device)"
   ]
  },
  {
   "cell_type": "markdown",
   "metadata": {},
   "source": [
    "### Load results"
   ]
  },
  {
   "cell_type": "code",
   "execution_count": null,
   "metadata": {},
   "outputs": [],
   "source": [
    "true_counts = torch.load(\"results/true_counts.pt\")\n",
    "true_fluxes = torch.load(\"results/true_fluxes.pt\")\n",
    "true_locs = torch.load(\"results/true_locs.pt\")\n",
    "true_total_intensities = torch.load(\"results/true_total_intensities.pt\")\n",
    "images = torch.load(\"results/images.pt\")\n",
    "num_images = images.shape[0]\n",
    "max_objects = true_fluxes.shape[1]\n",
    "\n",
    "sep_estimated_count = torch.load(\"results/sep_estimated_count.pt\")\n",
    "sep_reconstruction = torch.load(\"results/sep_reconstruction.pt\")\n",
    "\n",
    "smc_posterior_mean_count = torch.load(\"results/smc_posterior_mean_count.pt\")\n",
    "smc_reconstruction = torch.load(\"results/smc_reconstruction.pt\")\n",
    "smc_runtime = torch.load(\"results/smc_runtime.pt\")\n",
    "smc_num_iters = torch.load(\"results/smc_num_iters.pt\")"
   ]
  },
  {
   "cell_type": "markdown",
   "metadata": {},
   "source": [
    "### SEP results"
   ]
  },
  {
   "cell_type": "code",
   "execution_count": null,
   "metadata": {},
   "outputs": [],
   "source": [
    "sep_prop_correct = ((sep_estimated_count == true_counts).sum()/num_images)\n",
    "sep_mse = ((sep_estimated_count - true_counts)**2).mean()\n",
    "sep_mae = (sep_estimated_count - true_counts).abs().mean()\n",
    "\n",
    "print(f\"proportion correct = {sep_prop_correct}\")\n",
    "print(f\"MSE = {sep_mse}\")\n",
    "print(f\"MAE = {sep_mae}\")"
   ]
  },
  {
   "cell_type": "code",
   "execution_count": null,
   "metadata": {},
   "outputs": [],
   "source": [
    "sep_mean_estimated_s_by_num = torch.zeros(max_objects)\n",
    "sep_bounds_estimated_s_by_num = torch.zeros(max_objects, 2)\n",
    "sep_num_correct_by_num = torch.zeros(max_objects)\n",
    "sep_prop_correct_by_num = torch.zeros(max_objects)\n",
    "sep_mse_by_num = torch.zeros(max_objects)\n",
    "sep_mae_by_num = torch.zeros(max_objects)\n",
    "sep_bounds_mae_by_num = torch.zeros(max_objects, 2)\n",
    "\n",
    "for num in range(max_objects):\n",
    "    print(f\"true number of sources = {num}\")\n",
    "    sep_mean_estimated_s_by_num[num] = sep_estimated_count[true_counts==num].mean()\n",
    "    print(f\"mean estimated number of sources = {sep_mean_estimated_s_by_num[num].item()}\")\n",
    "    sep_bounds_estimated_s_by_num[num] = sep_estimated_count[true_counts==num].quantile(torch.tensor((0.05, 0.95)))\n",
    "    \n",
    "    sep_mse_by_num[num] = ((sep_estimated_count[true_counts==num] - true_counts[true_counts==num])**2).mean()\n",
    "    print(f\"MSE across {num_images} images = \", sep_mse_by_num[num].item())\n",
    "    \n",
    "    sep_mae_by_num[num] = ((sep_estimated_count[true_counts==num] - true_counts[true_counts==num]).abs()).mean()\n",
    "    print(f\"MAE across {num_images} images = \", sep_mae_by_num[num].item())\n",
    "    sep_bounds_mae_by_num[num] = ((sep_estimated_count[true_counts==num] - true_counts[true_counts==num]).abs()).quantile(torch.tensor((0.05, 0.95)))\n",
    "    \n",
    "    sep_num_correct_by_num[num] = (sep_estimated_count[true_counts==num].round() == true_counts[true_counts==num]).sum()\n",
    "    sep_prop_correct_by_num[num] = sep_num_correct_by_num[num]/(true_counts==num).sum()\n",
    "    print(f\"correct number of sources detected in {sep_num_correct_by_num[num]} of the {(true_counts==num).sum()} images (accuracy = {sep_prop_correct_by_num[num]})\\n\\n\\n\")"
   ]
  },
  {
   "cell_type": "markdown",
   "metadata": {},
   "source": [
    "### SMC results"
   ]
  },
  {
   "cell_type": "code",
   "execution_count": null,
   "metadata": {},
   "outputs": [],
   "source": [
    "print(f\"MSE across {num_images} images:\", ((smc_posterior_mean_count - true_counts)**2).mean().item())\n",
    "print(f\"MAE across {num_images} images:\", ((smc_posterior_mean_count - true_counts).abs()).mean().item())\n",
    "print(f\"correct number of sources detected in {(smc_posterior_mean_count.round() == true_counts).sum()} of the {num_images} images (accuracy = {(smc_posterior_mean_count.round() == true_counts).sum()/num_images})\")\n",
    "print(f\"number of iterations: minimum = {smc_num_iters.min().int()}, median = {smc_num_iters.median().int()}, maximum = {smc_num_iters.max().int()}\")\n",
    "print(f\"runtime: minimum = {smc_runtime.min().int()}, median = {smc_runtime.median().int()}, maximum = {smc_runtime.max().int()}\\n\\n\\n\")\n",
    "\n",
    "for i in range(num_images):\n",
    "    print(f\"image {i+1} of {num_images} took {smc_num_iters[i].int()} iterations:   \",\n",
    "        \"true s:\", true_counts[i].int().item(),\n",
    "        \"   estimated s:\", \"{:.3f}\".format(smc_posterior_mean_count[i].round(decimals = 4).item()),\n",
    "        \"   true total flux:\", true_fluxes[i].sum().round().int().item(),\n",
    "        \"   estimated total flux:\", )"
   ]
  },
  {
   "cell_type": "code",
   "execution_count": null,
   "metadata": {},
   "outputs": [],
   "source": [
    "# smc_mean_post_mean_s_by_num = torch.zeros(D, device=device)\n",
    "# smc_bounds_post_mean_s_by_num = torch.zeros(D, 2, device=device)\n",
    "# smc_num_correct_by_num = torch.zeros(D, device=device)\n",
    "# smc_prop_correct_by_num = torch.zeros(D, device=device)\n",
    "# smc_mse_by_num = torch.zeros(D, device=device)\n",
    "# smc_mae_by_num = torch.zeros(D, device=device)\n",
    "# smc_bounds_mae_by_num = torch.zeros(D, 2, device=device)\n",
    "\n",
    "# for num in range(D):\n",
    "#     print(f\"true number of sources = {num}\")\n",
    "    \n",
    "#     smc_mean_post_mean_s_by_num[num] = post_mean_s_smc[s==num].mean()\n",
    "#     print(f\"estimated number of sources for images where s = {num}:\", smc_mean_post_mean_s_by_num[num].item())\n",
    "#     smc_bounds_post_mean_s_by_num[num] = post_mean_s_smc[s==num].quantile(torch.tensor((0.05, 0.95),device=device))\n",
    "    \n",
    "#     smc_mse_by_num[num] = ((post_mean_s_smc[s==num] - s[s==num])**2).mean()\n",
    "#     print(f\"MSE across {(s==num).sum()} images:\", (smc_mse_by_num[num].item()))\n",
    "    \n",
    "#     smc_mae_by_num[num] = ((post_mean_s_smc[s==num] - s[s==num]).abs()).mean()\n",
    "#     print(f\"MAE across {(s==num).sum()} images:\", (smc_mae_by_num[num].item()))\n",
    "#     smc_bounds_mae_by_num[num] = ((post_mean_s_smc[s==num] - s[s==num]).abs()).quantile(torch.tensor((0.05, 0.95),device=device))\n",
    "    \n",
    "#     smc_num_correct_by_num[num] = (post_mean_s_smc[s==num].round() == s[s==num]).sum()\n",
    "#     smc_prop_correct_by_num[num] = smc_num_correct_by_num[num]/(s==num).sum()\n",
    "#     print(f\"correct number of sources detected in {smc_num_correct_by_num[num].int()} of the {(s==num).sum()} images (accuracy = {smc_prop_correct_by_num[num]})\")\n",
    "    \n",
    "#     print(f\"number of iterations: minimum = {num_iters_smc[s==num].min().int()}, median = {num_iters_smc[s==num].median().int()}, maximum = {num_iters_smc[s==num].max().int()}\\n\")"
   ]
  }
 ],
 "metadata": {
  "kernelspec": {
   "display_name": "Python 3",
   "language": "python",
   "name": "python3"
  },
  "language_info": {
   "codemirror_mode": {
    "name": "ipython",
    "version": 3
   },
   "file_extension": ".py",
   "mimetype": "text/x-python",
   "name": "python",
   "nbconvert_exporter": "python",
   "pygments_lexer": "ipython3",
   "version": "3.10.12"
  }
 },
 "nbformat": 4,
 "nbformat_minor": 2
}
