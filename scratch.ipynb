{
 "cells": [
  {
   "cell_type": "code",
   "execution_count": null,
   "metadata": {},
   "outputs": [],
   "source": [
    "import matplotlib.pyplot as plt\n",
    "import seaborn as sns\n",
    "\n",
    "import torch\n",
    "from torch.distributions import Poisson, Normal, Uniform, Distribution, Categorical\n",
    "from distributions import TruncatedDiagonalMVN\n",
    "\n",
    "import numpy as np\n",
    "\n",
    "from prior import CatalogPrior\n",
    "from images import PSF, ImageCollection"
   ]
  },
  {
   "cell_type": "code",
   "execution_count": null,
   "metadata": {},
   "outputs": [],
   "source": [
    "num_images = 1000\n",
    "img_width = 15\n",
    "img_height = 15\n",
    "max_objects_generated = 10\n",
    "psf_stdev = 3.25\n",
    "background_intensity = 19200\n",
    "\n",
    "collection = ImageCollection(img_width = img_width,\n",
    "                             img_height = img_height,\n",
    "                             max_objects_generated = max_objects_generated,\n",
    "                             psf_stdev = psf_stdev,\n",
    "                             background_intensity = background_intensity)\n",
    "\n",
    "counts, fluxes, locs, total_intensities, images = collection.generate(num_images)"
   ]
  },
  {
   "cell_type": "code",
   "execution_count": null,
   "metadata": {},
   "outputs": [],
   "source": [
    "for i in range(num_images):\n",
    "    print(f\"image {i+1}\\n\", \"count\\n\", counts[i].round().item(), \"\\ntotal flux\\n\", fluxes[i].sum().item(), \"\\nloc\\n\", locs[i].numpy(), \"\\n\\n\")"
   ]
  }
 ],
 "metadata": {
  "kernelspec": {
   "display_name": "Python 3",
   "language": "python",
   "name": "python3"
  },
  "language_info": {
   "codemirror_mode": {
    "name": "ipython",
    "version": 3
   },
   "file_extension": ".py",
   "mimetype": "text/x-python",
   "name": "python",
   "nbconvert_exporter": "python",
   "pygments_lexer": "ipython3",
   "version": "3.10.12"
  }
 },
 "nbformat": 4,
 "nbformat_minor": 2
}
