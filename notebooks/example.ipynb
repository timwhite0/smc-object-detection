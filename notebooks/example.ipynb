{
 "cells": [
  {
   "cell_type": "code",
   "execution_count": 1,
   "metadata": {},
   "outputs": [],
   "source": [
    "import sys\n",
    "sys.path.append(\"../\")\n",
    "\n",
    "from smc.sampler import SMCsampler\n",
    "from smc.prior import CatalogPrior\n",
    "from smc.images import ImageAttributes\n",
    "\n",
    "import torch\n",
    "# torch.cuda.is_available()\n",
    "device = torch.device(\"cuda:5\" if torch.cuda.is_available() else \"cpu\")\n",
    "torch.cuda.set_device(device)\n",
    "torch.set_default_device(device)"
   ]
  },
  {
   "cell_type": "code",
   "execution_count": 2,
   "metadata": {},
   "outputs": [],
   "source": [
    "num_images = 1\n",
    "img_dim = 15 # Needs to be square for now\n",
    "img_width = img_dim\n",
    "img_height = img_dim\n",
    "max_objects = 10\n",
    "psf_stdev = 3.25\n",
    "background_intensity = 19200\n",
    "\n",
    "image_attributes = ImageAttributes(img_width = img_width,\n",
    "                                   img_height = img_height,\n",
    "                                   max_objects = max_objects,\n",
    "                                   psf_stdev = psf_stdev,\n",
    "                                   background_intensity = background_intensity)\n",
    "\n",
    "true_counts, true_fluxes, true_locs, true_total_intensities, images = image_attributes.generate(num_images)"
   ]
  },
  {
   "cell_type": "code",
   "execution_count": 3,
   "metadata": {},
   "outputs": [
    {
     "name": "stdout",
     "output_type": "stream",
     "text": [
      "image 1 \n",
      "count\n",
      " 4 \n",
      "total flux\n",
      " 286367.125 \n",
      "loc\n",
      " [[ 0.         0.       ]\n",
      " [11.290261   1.5768375]\n",
      " [12.539728  10.062885 ]\n",
      " [ 7.013107  14.852447 ]\n",
      " [ 5.238089   4.2609034]\n",
      " [ 0.         0.       ]\n",
      " [ 0.         0.       ]\n",
      " [ 0.         0.       ]\n",
      " [ 0.         0.       ]\n",
      " [ 0.         0.       ]\n",
      " [ 0.         0.       ]] \n",
      "\n",
      "\n"
     ]
    }
   ],
   "source": [
    "for i in range(num_images):\n",
    "    print(f\"image {i+1}\",\n",
    "          \"\\ncount\\n\", true_counts[i].round().item(),\n",
    "          \"\\ntotal flux\\n\", true_fluxes[i].sum().item(),\n",
    "          \"\\nloc\\n\", true_locs[i].cpu().numpy(), \"\\n\\n\")"
   ]
  },
  {
   "cell_type": "code",
   "execution_count": 4,
   "metadata": {},
   "outputs": [
    {
     "name": "stdout",
     "output_type": "stream",
     "text": [
      "True count: 4\n",
      "True total flux: 286367.125\n",
      "\n",
      "Starting the sampler...\n",
      "iteration 5, temperature = 0.0008661208557896316, posterior mean count = 4.13873815536499\n",
      "iteration 10, temperature = 0.0032788151875138283, posterior mean count = 4.408565521240234\n",
      "iteration 15, temperature = 0.007527665235102177, posterior mean count = 4.491881370544434\n",
      "iteration 20, temperature = 0.01671612076461315, posterior mean count = 4.576935768127441\n",
      "iteration 25, temperature = 0.0433666966855526, posterior mean count = 4.611618995666504\n",
      "iteration 30, temperature = 0.10700725018978119, posterior mean count = 4.581571578979492\n",
      "iteration 35, temperature = 0.3198871612548828, posterior mean count = 4.4862895011901855\n",
      "iteration 40, temperature = 0.8841911554336548, posterior mean count = 4.3827362060546875\n",
      "iteration 45, temperature = 0.9963809847831726, posterior mean count = 4.37546443939209\n",
      "iteration 50, temperature = 0.9998868703842163, posterior mean count = 4.375585556030273\n",
      "Done!\n",
      "\n",
      "summary\n",
      "number of SMC iterations: 50\n",
      "log normalizing constant: -1907.7313232421875\n",
      "posterior mean count: 4.375588417053223\n",
      "posterior mean total flux: 286038.875\n",
      "argmax count: 4.0\n",
      "argmax total flux: 288717.46875\n",
      "\n",
      "\n",
      "\n"
     ]
    },
    {
     "data": {
      "image/png": "[encoded data removed]",
      "text/plain": [
       "<Figure size 432x288 with 2 Axes>"
      ]
     },
     "metadata": {
      "needs_background": "light"
     },
     "output_type": "display_data"
    }
   ],
   "source": [
    "max_objects_smc = max_objects + 2\n",
    "prior = CatalogPrior(max_objects_smc, img_width, img_height, background_intensity/3.)\n",
    "smc = SMCsampler(images[0], image_attributes, prior, num_blocks = max_objects_smc+1, catalogs_per_block = 500, max_smc_iters = 1000)\n",
    "\n",
    "print(f\"True count: {true_counts[0]}\")\n",
    "print(f\"True total flux: {true_fluxes[0].sum()}\\n\")\n",
    "\n",
    "smc.run(print_progress = True)\n",
    "smc.summarize()"
   ]
  }
 ],
 "metadata": {
  "kernelspec": {
   "display_name": "Python 3",
   "language": "python",
   "name": "python3"
  },
  "language_info": {
   "codemirror_mode": {
    "name": "ipython",
    "version": 3
   },
   "file_extension": ".py",
   "mimetype": "text/x-python",
   "name": "python",
   "nbconvert_exporter": "python",
   "pygments_lexer": "ipython3",
   "version": "3.10.12"
  }
 },
 "nbformat": 4,
 "nbformat_minor": 2
}
