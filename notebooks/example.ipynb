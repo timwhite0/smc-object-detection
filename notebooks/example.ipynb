{
 "cells": [
  {
   "cell_type": "code",
   "execution_count": 1,
   "metadata": {},
   "outputs": [],
   "source": [
    "import sys\n",
    "sys.path.append(\"../\")\n",
    "\n",
    "from smc.sampler import SMCsampler\n",
    "from smc.prior import CatalogPrior\n",
    "from smc.images import ImageAttributes\n",
    "\n",
    "import torch\n",
    "# torch.cuda.is_available()\n",
    "device = torch.device(\"cuda:5\" if torch.cuda.is_available() else \"cpu\")\n",
    "torch.cuda.set_device(device)\n",
    "torch.set_default_device(device)"
   ]
  },
  {
   "cell_type": "code",
   "execution_count": 2,
   "metadata": {},
   "outputs": [],
   "source": [
    "num_images = 1\n",
    "img_dim = 15 # Needs to be square for now\n",
    "img_width = img_dim\n",
    "img_height = img_dim\n",
    "max_objects = 10\n",
    "psf_stdev = 3.25\n",
    "background_intensity = 19200\n",
    "\n",
    "image_attributes = ImageAttributes(img_width = img_width,\n",
    "                                   img_height = img_height,\n",
    "                                   max_objects = max_objects,\n",
    "                                   psf_stdev = psf_stdev,\n",
    "                                   background_intensity = background_intensity)\n",
    "\n",
    "true_counts, true_fluxes, true_locs, true_total_intensities, images = image_attributes.generate(num_images)"
   ]
  },
  {
   "cell_type": "code",
   "execution_count": 3,
   "metadata": {},
   "outputs": [
    {
     "name": "stdout",
     "output_type": "stream",
     "text": [
      "image 1 \n",
      "count\n",
      " 8 \n",
      "total flux\n",
      " 541982.375 \n",
      "loc\n",
      " [[ 0.          0.        ]\n",
      " [ 5.65157    11.281107  ]\n",
      " [ 8.566372    6.0580235 ]\n",
      " [ 8.662057   10.691967  ]\n",
      " [ 4.4409084   0.17668803]\n",
      " [ 4.3098755   2.436254  ]\n",
      " [ 8.336398    7.22295   ]\n",
      " [11.272838   12.705546  ]\n",
      " [ 7.20507     9.3013525 ]\n",
      " [ 0.          0.        ]\n",
      " [ 0.          0.        ]] \n",
      "\n",
      "\n"
     ]
    }
   ],
   "source": [
    "for i in range(num_images):\n",
    "    print(f\"image {i+1}\",\n",
    "          \"\\ncount\\n\", true_counts[i].round().item(),\n",
    "          \"\\ntotal flux\\n\", true_fluxes[i].sum().item(),\n",
    "          \"\\nloc\\n\", true_locs[i].cpu().numpy(), \"\\n\\n\")"
   ]
  },
  {
   "cell_type": "code",
   "execution_count": 4,
   "metadata": {},
   "outputs": [
    {
     "name": "stdout",
     "output_type": "stream",
     "text": [
      "True count: 8\n",
      "True total flux: 541982.375\n",
      "\n",
      "Starting the sampler...\n",
      "iteration 5, temperature = 0.001348261721432209, posterior mean count = 8.662282943725586\n",
      "iteration 10, temperature = 0.004005937837064266, posterior mean count = 8.489739418029785\n",
      "iteration 15, temperature = 0.007390883285552263, posterior mean count = 8.382780075073242\n",
      "iteration 20, temperature = 0.011570286937057972, posterior mean count = 8.305234909057617\n",
      "iteration 25, temperature = 0.0166524276137352, posterior mean count = 8.26384162902832\n",
      "iteration 30, temperature = 0.023504016920924187, posterior mean count = 8.240248680114746\n",
      "iteration 35, temperature = 0.032716959714889526, posterior mean count = 8.216817855834961\n",
      "iteration 40, temperature = 0.04521472379565239, posterior mean count = 8.186802864074707\n",
      "iteration 45, temperature = 0.06138566881418228, posterior mean count = 8.16254997253418\n",
      "iteration 50, temperature = 0.0845004990696907, posterior mean count = 8.150649070739746\n",
      "iteration 55, temperature = 0.11628641188144684, posterior mean count = 8.12706470489502\n",
      "iteration 60, temperature = 0.16121946275234222, posterior mean count = 8.100900650024414\n",
      "iteration 65, temperature = 0.22151562571525574, posterior mean count = 8.082660675048828\n",
      "iteration 70, temperature = 0.30042099952697754, posterior mean count = 8.061046600341797\n",
      "iteration 75, temperature = 0.3919118046760559, posterior mean count = 8.044729232788086\n",
      "iteration 80, temperature = 0.5040789246559143, posterior mean count = 8.032374382019043\n",
      "iteration 85, temperature = 0.6350075602531433, posterior mean count = 8.02138900756836\n",
      "iteration 90, temperature = 0.7918013334274292, posterior mean count = 8.007467269897461\n",
      "iteration 95, temperature = 0.9693561792373657, posterior mean count = 7.997695446014404\n",
      "iteration 100, temperature = 0.9990423917770386, posterior mean count = 7.99478816986084\n",
      "Done!\n",
      "\n",
      "summary\n",
      "number of SMC iterations: 103\n",
      "\n",
      "log normalizing constant: -2403.2333984375\n",
      "posterior mean count: 7.99470329284668\n",
      "posterior mean total flux: 542956.1875\n",
      "argmax count: 8.0\n",
      "argmax total flux: 546526.5625\n",
      "\n",
      "\n",
      "\n"
     ]
    },
    {
     "data": {
      "image/png": "[encoded data removed]",
      "text/plain": [
       "<Figure size 432x288 with 2 Axes>"
      ]
     },
     "metadata": {
      "needs_background": "light"
     },
     "output_type": "display_data"
    }
   ],
   "source": [
    "max_objects_smc = max_objects + 2\n",
    "prior = CatalogPrior(max_objects_smc, img_width, img_height, background_intensity/3.)\n",
    "smc = SMCsampler(images[0], image_attributes, prior, num_blocks = max_objects_smc+1, catalogs_per_block = 500, max_smc_iters = 1000)\n",
    "\n",
    "print(f\"True count: {true_counts[0]}\")\n",
    "print(f\"True total flux: {true_fluxes[0].sum()}\\n\")\n",
    "\n",
    "smc.run(print_progress = True)\n",
    "smc.summarize()"
   ]
  }
 ],
 "metadata": {
  "kernelspec": {
   "display_name": "Python 3",
   "language": "python",
   "name": "python3"
  },
  "language_info": {
   "codemirror_mode": {
    "name": "ipython",
    "version": 3
   },
   "file_extension": ".py",
   "mimetype": "text/x-python",
   "name": "python",
   "nbconvert_exporter": "python",
   "pygments_lexer": "ipython3",
   "version": "3.10.12"
  }
 },
 "nbformat": 4,
 "nbformat_minor": 2
}
